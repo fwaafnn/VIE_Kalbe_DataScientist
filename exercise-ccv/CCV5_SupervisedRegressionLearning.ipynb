{
 "cells": [
  {
   "cell_type": "markdown",
   "metadata": {},
   "source": [
    "##### Afwa Afini - VIE Data Scientist - Kalbe Nutritionals"
   ]
  },
  {
   "cell_type": "code",
   "execution_count": 15,
   "metadata": {},
   "outputs": [],
   "source": [
    "#Library pengolahan data\n",
    "import pandas as pd\n",
    "import numpy as np\n",
    "\n",
    "#Library visualisasi data\n",
    "import matplotlib.pyplot as plt\n",
    "import seaborn as sns\n",
    "\n",
    "#Library model Linear Regression\n",
    "from sklearn.linear_model import LinearRegression\n",
    "from sklearn.model_selection import train_test_split"
   ]
  },
  {
   "cell_type": "code",
   "execution_count": 16,
   "metadata": {},
   "outputs": [
    {
     "data": {
      "text/html": [
       "<div>\n",
       "<style scoped>\n",
       "    .dataframe tbody tr th:only-of-type {\n",
       "        vertical-align: middle;\n",
       "    }\n",
       "\n",
       "    .dataframe tbody tr th {\n",
       "        vertical-align: top;\n",
       "    }\n",
       "\n",
       "    .dataframe thead th {\n",
       "        text-align: right;\n",
       "    }\n",
       "</style>\n",
       "<table border=\"1\" class=\"dataframe\">\n",
       "  <thead>\n",
       "    <tr style=\"text-align: right;\">\n",
       "      <th></th>\n",
       "      <th>Day</th>\n",
       "      <th>Diabetasol Coklat 1 kg</th>\n",
       "      <th>Fitbar Multigrain raisin 22 gram</th>\n",
       "      <th>Hydro Coco Original 500 ml</th>\n",
       "      <th>Slim &amp; Fit Milk 312 gr</th>\n",
       "      <th>Daily Sales</th>\n",
       "    </tr>\n",
       "  </thead>\n",
       "  <tbody>\n",
       "    <tr>\n",
       "      <th>0</th>\n",
       "      <td>1</td>\n",
       "      <td>7165158.0</td>\n",
       "      <td>115718.0</td>\n",
       "      <td>747417</td>\n",
       "      <td>7131950.0</td>\n",
       "      <td>20100380</td>\n",
       "    </tr>\n",
       "    <tr>\n",
       "      <th>1</th>\n",
       "      <td>2</td>\n",
       "      <td>11091106.0</td>\n",
       "      <td>302774.0</td>\n",
       "      <td>531021</td>\n",
       "      <td>4568946.0</td>\n",
       "      <td>19923983</td>\n",
       "    </tr>\n",
       "    <tr>\n",
       "      <th>2</th>\n",
       "      <td>3</td>\n",
       "      <td>3927138.0</td>\n",
       "      <td>150366.0</td>\n",
       "      <td>66812</td>\n",
       "      <td>2321753.0</td>\n",
       "      <td>10688946</td>\n",
       "    </tr>\n",
       "    <tr>\n",
       "      <th>3</th>\n",
       "      <td>4</td>\n",
       "      <td>1155500.0</td>\n",
       "      <td>74752.0</td>\n",
       "      <td>436916</td>\n",
       "      <td>NaN</td>\n",
       "      <td>4993264</td>\n",
       "    </tr>\n",
       "    <tr>\n",
       "      <th>4</th>\n",
       "      <td>5</td>\n",
       "      <td>6007919.0</td>\n",
       "      <td>370528.0</td>\n",
       "      <td>202243</td>\n",
       "      <td>3764485.0</td>\n",
       "      <td>14853006</td>\n",
       "    </tr>\n",
       "  </tbody>\n",
       "</table>\n",
       "</div>"
      ],
      "text/plain": [
       "   Day  Diabetasol Coklat 1 kg  Fitbar Multigrain raisin 22 gram  \\\n",
       "0    1               7165158.0                          115718.0   \n",
       "1    2              11091106.0                          302774.0   \n",
       "2    3               3927138.0                          150366.0   \n",
       "3    4               1155500.0                           74752.0   \n",
       "4    5               6007919.0                          370528.0   \n",
       "\n",
       "   Hydro Coco Original 500 ml  Slim & Fit Milk 312 gr  Daily Sales  \n",
       "0                      747417               7131950.0     20100380  \n",
       "1                      531021               4568946.0     19923983  \n",
       "2                       66812               2321753.0     10688946  \n",
       "3                      436916                     NaN      4993264  \n",
       "4                      202243               3764485.0     14853006  "
      ]
     },
     "execution_count": 16,
     "metadata": {},
     "output_type": "execute_result"
    }
   ],
   "source": [
    "# load data dan menampilkan data\n",
    "df = pd.read_csv(\"../data-source/Dataset CCV 5 - Supervised Learning Regression.csv\")\n",
    "df.head() "
   ]
  },
  {
   "cell_type": "code",
   "execution_count": 17,
   "metadata": {},
   "outputs": [
    {
     "name": "stdout",
     "output_type": "stream",
     "text": [
      "<class 'pandas.core.frame.DataFrame'>\n",
      "RangeIndex: 31 entries, 0 to 30\n",
      "Data columns (total 6 columns):\n",
      " #   Column                            Non-Null Count  Dtype  \n",
      "---  ------                            --------------  -----  \n",
      " 0   Day                               31 non-null     int64  \n",
      " 1   Diabetasol Coklat 1 kg            30 non-null     float64\n",
      " 2   Fitbar Multigrain raisin 22 gram  30 non-null     float64\n",
      " 3   Hydro Coco Original 500 ml        31 non-null     int64  \n",
      " 4   Slim & Fit Milk 312 gr            28 non-null     float64\n",
      " 5   Daily Sales                       31 non-null     int64  \n",
      "dtypes: float64(3), int64(3)\n",
      "memory usage: 1.6 KB\n"
     ]
    }
   ],
   "source": [
    "df.info()"
   ]
  },
  {
   "cell_type": "code",
   "execution_count": 18,
   "metadata": {},
   "outputs": [
    {
     "data": {
      "text/html": [
       "<div>\n",
       "<style scoped>\n",
       "    .dataframe tbody tr th:only-of-type {\n",
       "        vertical-align: middle;\n",
       "    }\n",
       "\n",
       "    .dataframe tbody tr th {\n",
       "        vertical-align: top;\n",
       "    }\n",
       "\n",
       "    .dataframe thead th {\n",
       "        text-align: right;\n",
       "    }\n",
       "</style>\n",
       "<table border=\"1\" class=\"dataframe\">\n",
       "  <thead>\n",
       "    <tr style=\"text-align: right;\">\n",
       "      <th></th>\n",
       "      <th>Day</th>\n",
       "      <th>Diabetasol Coklat 1 kg</th>\n",
       "      <th>Fitbar Multigrain raisin 22 gram</th>\n",
       "      <th>Hydro Coco Original 500 ml</th>\n",
       "      <th>Slim &amp; Fit Milk 312 gr</th>\n",
       "      <th>Daily Sales</th>\n",
       "    </tr>\n",
       "  </thead>\n",
       "  <tbody>\n",
       "    <tr>\n",
       "      <th>count</th>\n",
       "      <td>31.000000</td>\n",
       "      <td>3.000000e+01</td>\n",
       "      <td>30.000000</td>\n",
       "      <td>3.100000e+01</td>\n",
       "      <td>2.800000e+01</td>\n",
       "      <td>3.100000e+01</td>\n",
       "    </tr>\n",
       "    <tr>\n",
       "      <th>mean</th>\n",
       "      <td>16.000000</td>\n",
       "      <td>7.650075e+06</td>\n",
       "      <td>203052.833333</td>\n",
       "      <td>5.852296e+05</td>\n",
       "      <td>2.784100e+06</td>\n",
       "      <td>1.452263e+07</td>\n",
       "    </tr>\n",
       "    <tr>\n",
       "      <th>std</th>\n",
       "      <td>9.092121</td>\n",
       "      <td>4.719969e+06</td>\n",
       "      <td>119893.843744</td>\n",
       "      <td>3.157644e+05</td>\n",
       "      <td>1.798318e+06</td>\n",
       "      <td>5.938896e+06</td>\n",
       "    </tr>\n",
       "    <tr>\n",
       "      <th>min</th>\n",
       "      <td>1.000000</td>\n",
       "      <td>6.946280e+05</td>\n",
       "      <td>56598.000000</td>\n",
       "      <td>3.374900e+04</td>\n",
       "      <td>2.419020e+05</td>\n",
       "      <td>2.847663e+06</td>\n",
       "    </tr>\n",
       "    <tr>\n",
       "      <th>25%</th>\n",
       "      <td>8.500000</td>\n",
       "      <td>4.046010e+06</td>\n",
       "      <td>117565.000000</td>\n",
       "      <td>3.251445e+05</td>\n",
       "      <td>1.182336e+06</td>\n",
       "      <td>1.018512e+07</td>\n",
       "    </tr>\n",
       "    <tr>\n",
       "      <th>50%</th>\n",
       "      <td>16.000000</td>\n",
       "      <td>7.396085e+06</td>\n",
       "      <td>154139.000000</td>\n",
       "      <td>5.478080e+05</td>\n",
       "      <td>3.124707e+06</td>\n",
       "      <td>1.485301e+07</td>\n",
       "    </tr>\n",
       "    <tr>\n",
       "      <th>75%</th>\n",
       "      <td>23.500000</td>\n",
       "      <td>1.143811e+07</td>\n",
       "      <td>251149.750000</td>\n",
       "      <td>8.573490e+05</td>\n",
       "      <td>3.804342e+06</td>\n",
       "      <td>1.964331e+07</td>\n",
       "    </tr>\n",
       "    <tr>\n",
       "      <th>max</th>\n",
       "      <td>31.000000</td>\n",
       "      <td>1.802751e+07</td>\n",
       "      <td>479724.000000</td>\n",
       "      <td>1.196453e+06</td>\n",
       "      <td>7.131950e+06</td>\n",
       "      <td>2.537055e+07</td>\n",
       "    </tr>\n",
       "  </tbody>\n",
       "</table>\n",
       "</div>"
      ],
      "text/plain": [
       "             Day  Diabetasol Coklat 1 kg  Fitbar Multigrain raisin 22 gram  \\\n",
       "count  31.000000            3.000000e+01                         30.000000   \n",
       "mean   16.000000            7.650075e+06                     203052.833333   \n",
       "std     9.092121            4.719969e+06                     119893.843744   \n",
       "min     1.000000            6.946280e+05                      56598.000000   \n",
       "25%     8.500000            4.046010e+06                     117565.000000   \n",
       "50%    16.000000            7.396085e+06                     154139.000000   \n",
       "75%    23.500000            1.143811e+07                     251149.750000   \n",
       "max    31.000000            1.802751e+07                     479724.000000   \n",
       "\n",
       "       Hydro Coco Original 500 ml  Slim & Fit Milk 312 gr   Daily Sales  \n",
       "count                3.100000e+01            2.800000e+01  3.100000e+01  \n",
       "mean                 5.852296e+05            2.784100e+06  1.452263e+07  \n",
       "std                  3.157644e+05            1.798318e+06  5.938896e+06  \n",
       "min                  3.374900e+04            2.419020e+05  2.847663e+06  \n",
       "25%                  3.251445e+05            1.182336e+06  1.018512e+07  \n",
       "50%                  5.478080e+05            3.124707e+06  1.485301e+07  \n",
       "75%                  8.573490e+05            3.804342e+06  1.964331e+07  \n",
       "max                  1.196453e+06            7.131950e+06  2.537055e+07  "
      ]
     },
     "execution_count": 18,
     "metadata": {},
     "output_type": "execute_result"
    }
   ],
   "source": [
    "df.describe()"
   ]
  },
  {
   "cell_type": "code",
   "execution_count": 19,
   "metadata": {},
   "outputs": [
    {
     "data": {
      "text/plain": [
       "Day                                 0\n",
       "Diabetasol Coklat 1 kg              1\n",
       "Fitbar Multigrain raisin 22 gram    1\n",
       "Hydro Coco Original 500 ml          0\n",
       "Slim & Fit Milk 312 gr              3\n",
       "Daily Sales                         0\n",
       "dtype: int64"
      ]
     },
     "execution_count": 19,
     "metadata": {},
     "output_type": "execute_result"
    }
   ],
   "source": [
    "df.isna().sum()"
   ]
  },
  {
   "cell_type": "code",
   "execution_count": 20,
   "metadata": {},
   "outputs": [
    {
     "name": "stderr",
     "output_type": "stream",
     "text": [
      "c:\\Users\\AfwaAfini\\.conda\\envs\\kalbe_ds\\Lib\\site-packages\\seaborn\\axisgrid.py:118: UserWarning: The figure layout has changed to tight\n",
      "  self._figure.tight_layout(*args, **kwargs)\n"
     ]
    },
    {
     "data": {
      "text/plain": [
       "<Figure size 1200x500 with 0 Axes>"
      ]
     },
     "metadata": {},
     "output_type": "display_data"
    },
    {
     "data": {
      "image/png": "[encoded data removed]",
      "text/plain": [
       "<Figure size 500x500 with 1 Axes>"
      ]
     },
     "metadata": {},
     "output_type": "display_data"
    }
   ],
   "source": [
    "import warnings\n",
    "warnings.filterwarnings(\"ignore\", category=FutureWarning)\n",
    "\n",
    "# membuat visualisasi sebaran data antara var.dependen (salary) & independen (years) menggunakan grafik scatterplot\n",
    "plt.figure(figsize=(12,5))\n",
    "sns.pairplot(df, x_vars=['Diabetasol Coklat 1 kg'], y_vars=['Daily Sales'], height=5, kind='scatter')\n",
    "plt.xlabel('Diabetasol Coklat 1 kg')\n",
    "plt.ylabel('Daily Sales')\n",
    "plt.title('Scatterplot between Diabetasol Chocolate Sales and Total Daily Sales')\n",
    "plt.show()"
   ]
  },
  {
   "cell_type": "code",
   "execution_count": 21,
   "metadata": {},
   "outputs": [],
   "source": [
    "df.dropna(subset = 'Diabetasol Coklat 1 kg', inplace = True)"
   ]
  },
  {
   "cell_type": "code",
   "execution_count": 22,
   "metadata": {},
   "outputs": [
    {
     "data": {
      "text/plain": [
       "0     7165158.0\n",
       "1    11091106.0\n",
       "2     3927138.0\n",
       "3     1155500.0\n",
       "4     6007919.0\n",
       "Name: Diabetasol Coklat 1 kg, dtype: float64"
      ]
     },
     "execution_count": 22,
     "metadata": {},
     "output_type": "execute_result"
    }
   ],
   "source": [
    "# menyimpan ke var. x sebagai var. independen\n",
    "X = df['Diabetasol Coklat 1 kg']\n",
    "X.head()"
   ]
  },
  {
   "cell_type": "code",
   "execution_count": 23,
   "metadata": {},
   "outputs": [
    {
     "data": {
      "text/plain": [
       "0    20100380\n",
       "1    19923983\n",
       "2    10688946\n",
       "3     4993264\n",
       "4    14853006\n",
       "Name: Daily Sales, dtype: int64"
      ]
     },
     "execution_count": 23,
     "metadata": {},
     "output_type": "execute_result"
    }
   ],
   "source": [
    "# menyimpan ke var. y sebagai var. dependen\n",
    "y = df['Daily Sales']\n",
    "y.head()"
   ]
  },
  {
   "cell_type": "code",
   "execution_count": 24,
   "metadata": {},
   "outputs": [],
   "source": [
    "# membagi data menjadi data latih dan data uji\n",
    "X_train, X_test, y_train, y_test = train_test_split(X,y,train_size=0.7,random_state=100)"
   ]
  },
  {
   "cell_type": "code",
   "execution_count": 25,
   "metadata": {},
   "outputs": [],
   "source": [
    "X_train = X_train.to_numpy()\n",
    "X_test = X_test.to_numpy()\n"
   ]
  },
  {
   "cell_type": "code",
   "execution_count": 26,
   "metadata": {},
   "outputs": [],
   "source": [
    "X_train = X_train.reshape(X_train.shape[0],1)\n",
    "X_test = X_test.reshape(X_test.shape[0],1)"
   ]
  },
  {
   "cell_type": "code",
   "execution_count": 27,
   "metadata": {},
   "outputs": [
    {
     "data": {
      "text/html": [
       "<style>#sk-container-id-1 {color: black;}#sk-container-id-1 pre{padding: 0;}#sk-container-id-1 div.sk-toggleable {background-color: white;}#sk-container-id-1 label.sk-toggleable__label {cursor: pointer;display: block;width: 100%;margin-bottom: 0;padding: 0.3em;box-sizing: border-box;text-align: center;}#sk-container-id-1 label.sk-toggleable__label-arrow:before {content: \"▸\";float: left;margin-right: 0.25em;color: #696969;}#sk-container-id-1 label.sk-toggleable__label-arrow:hover:before {color: black;}#sk-container-id-1 div.sk-estimator:hover label.sk-toggleable__label-arrow:before {color: black;}#sk-container-id-1 div.sk-toggleable__content {max-height: 0;max-width: 0;overflow: hidden;text-align: left;background-color: #f0f8ff;}#sk-container-id-1 div.sk-toggleable__content pre {margin: 0.2em;color: black;border-radius: 0.25em;background-color: #f0f8ff;}#sk-container-id-1 input.sk-toggleable__control:checked~div.sk-toggleable__content {max-height: 200px;max-width: 100%;overflow: auto;}#sk-container-id-1 input.sk-toggleable__control:checked~label.sk-toggleable__label-arrow:before {content: \"▾\";}#sk-container-id-1 div.sk-estimator input.sk-toggleable__control:checked~label.sk-toggleable__label {background-color: #d4ebff;}#sk-container-id-1 div.sk-label input.sk-toggleable__control:checked~label.sk-toggleable__label {background-color: #d4ebff;}#sk-container-id-1 input.sk-hidden--visually {border: 0;clip: rect(1px 1px 1px 1px);clip: rect(1px, 1px, 1px, 1px);height: 1px;margin: -1px;overflow: hidden;padding: 0;position: absolute;width: 1px;}#sk-container-id-1 div.sk-estimator {font-family: monospace;background-color: #f0f8ff;border: 1px dotted black;border-radius: 0.25em;box-sizing: border-box;margin-bottom: 0.5em;}#sk-container-id-1 div.sk-estimator:hover {background-color: #d4ebff;}#sk-container-id-1 div.sk-parallel-item::after {content: \"\";width: 100%;border-bottom: 1px solid gray;flex-grow: 1;}#sk-container-id-1 div.sk-label:hover label.sk-toggleable__label {background-color: #d4ebff;}#sk-container-id-1 div.sk-serial::before {content: \"\";position: absolute;border-left: 1px solid gray;box-sizing: border-box;top: 0;bottom: 0;left: 50%;z-index: 0;}#sk-container-id-1 div.sk-serial {display: flex;flex-direction: column;align-items: center;background-color: white;padding-right: 0.2em;padding-left: 0.2em;position: relative;}#sk-container-id-1 div.sk-item {position: relative;z-index: 1;}#sk-container-id-1 div.sk-parallel {display: flex;align-items: stretch;justify-content: center;background-color: white;position: relative;}#sk-container-id-1 div.sk-item::before, #sk-container-id-1 div.sk-parallel-item::before {content: \"\";position: absolute;border-left: 1px solid gray;box-sizing: border-box;top: 0;bottom: 0;left: 50%;z-index: -1;}#sk-container-id-1 div.sk-parallel-item {display: flex;flex-direction: column;z-index: 1;position: relative;background-color: white;}#sk-container-id-1 div.sk-parallel-item:first-child::after {align-self: flex-end;width: 50%;}#sk-container-id-1 div.sk-parallel-item:last-child::after {align-self: flex-start;width: 50%;}#sk-container-id-1 div.sk-parallel-item:only-child::after {width: 0;}#sk-container-id-1 div.sk-dashed-wrapped {border: 1px dashed gray;margin: 0 0.4em 0.5em 0.4em;box-sizing: border-box;padding-bottom: 0.4em;background-color: white;}#sk-container-id-1 div.sk-label label {font-family: monospace;font-weight: bold;display: inline-block;line-height: 1.2em;}#sk-container-id-1 div.sk-label-container {text-align: center;}#sk-container-id-1 div.sk-container {/* jupyter's `normalize.less` sets `[hidden] { display: none; }` but bootstrap.min.css set `[hidden] { display: none !important; }` so we also need the `!important` here to be able to override the default hidden behavior on the sphinx rendered scikit-learn.org. See: https://github.com/scikit-learn/scikit-learn/issues/21755 */display: inline-block !important;position: relative;}#sk-container-id-1 div.sk-text-repr-fallback {display: none;}</style><div id=\"sk-container-id-1\" class=\"sk-top-container\"><div class=\"sk-text-repr-fallback\"><pre>LinearRegression()</pre><b>In a Jupyter environment, please rerun this cell to show the HTML representation or trust the notebook. <br />On GitHub, the HTML representation is unable to render, please try loading this page with nbviewer.org.</b></div><div class=\"sk-container\" hidden><div class=\"sk-item\"><div class=\"sk-estimator sk-toggleable\"><input class=\"sk-toggleable__control sk-hidden--visually\" id=\"sk-estimator-id-1\" type=\"checkbox\" checked><label for=\"sk-estimator-id-1\" class=\"sk-toggleable__label sk-toggleable__label-arrow\">LinearRegression</label><div class=\"sk-toggleable__content\"><pre>LinearRegression()</pre></div></div></div></div></div>"
      ],
      "text/plain": [
       "LinearRegression()"
      ]
     },
     "execution_count": 27,
     "metadata": {},
     "output_type": "execute_result"
    }
   ],
   "source": [
    "# menyesuaikan garis regresi dengan sebaran data (fit)\n",
    "lr = LinearRegression()\n",
    "lr.fit(X_train,y_train)"
   ]
  },
  {
   "cell_type": "code",
   "execution_count": 28,
   "metadata": {},
   "outputs": [],
   "source": [
    "# model melakukan prediksi\n",
    "y_pred = lr.predict(X_test)"
   ]
  },
  {
   "cell_type": "code",
   "execution_count": 29,
   "metadata": {},
   "outputs": [
    {
     "data": {
      "image/png": "[encoded data removed]",
      "text/plain": [
       "<Figure size 640x480 with 1 Axes>"
      ]
     },
     "metadata": {},
     "output_type": "display_data"
    }
   ],
   "source": [
    "# membuat visualisasi perbandingan\n",
    "c = [i for i in range (1,len(y_test)+1,1)]\n",
    "plt.plot(c, y_test, color='r', linestyle='-', label='Actual Data')\n",
    "plt.plot (c, y_pred, color='b', linestyle='-', label='Predicted Data')\n",
    "plt.xlabel('Actual Data')\n",
    "plt.ylabel('Predicted Data')\n",
    "plt.legend()\n",
    "plt.title('Comparison between Actual Data and Predicted Data')\n",
    "plt.show()"
   ]
  },
  {
   "cell_type": "code",
   "execution_count": 30,
   "metadata": {},
   "outputs": [],
   "source": [
    "# metriks untuk evaluasi model\n",
    "from sklearn.metrics import r2_score, mean_squared_error"
   ]
  },
  {
   "cell_type": "code",
   "execution_count": 31,
   "metadata": {},
   "outputs": [
    {
     "name": "stdout",
     "output_type": "stream",
     "text": [
      "Mean Squared Error (MSE) : 5646943705294.958\n"
     ]
    }
   ],
   "source": [
    "# perhitungan Mean square error\n",
    "mse = mean_squared_error(y_test, y_pred)\n",
    "print('Mean Squared Error (MSE) :', mse)"
   ]
  },
  {
   "cell_type": "code",
   "execution_count": 32,
   "metadata": {},
   "outputs": [
    {
     "name": "stdout",
     "output_type": "stream",
     "text": [
      "Intercept of the model : 6728389.623898853\n",
      "Coefficient of the line : [1.0712553]\n"
     ]
    }
   ],
   "source": [
    "# Intercept and coeff of the line\n",
    "print('Intercept of the model :', lr.intercept_)\n",
    "print('Coefficient of the line :', lr.coef_)"
   ]
  },
  {
   "cell_type": "markdown",
   "metadata": {},
   "source": [
    "berhasil membuat model regresi linear dengan persamaan:"
   ]
  },
  {
   "cell_type": "markdown",
   "metadata": {},
   "source": [
    "y = 1.07x + 6728389.62"
   ]
  }
 ],
 "metadata": {
  "kernelspec": {
   "display_name": "kalbe_ds",
   "language": "python",
   "name": "python3"
  },
  "language_info": {
   "codemirror_mode": {
    "name": "ipython",
    "version": 3
   },
   "file_extension": ".py",
   "mimetype": "text/x-python",
   "name": "python",
   "nbconvert_exporter": "python",
   "pygments_lexer": "ipython3",
   "version": "3.11.5"
  },
  "orig_nbformat": 4
 },
 "nbformat": 4,
 "nbformat_minor": 2
}
